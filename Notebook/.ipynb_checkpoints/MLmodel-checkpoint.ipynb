{
 "cells": [
  {
   "cell_type": "code",
   "execution_count": null,
   "id": "1dd674f5",
   "metadata": {},
   "outputs": [],
   "source": [
    "import numpy as np\n",
    "import pandas as pd \n",
    "import seaborn as sns\n",
    "import matplotlib.pyplot as plt"
   ]
  },
  {
   "cell_type": "code",
   "execution_count": null,
   "id": "12bb440e",
   "metadata": {},
   "outputs": [],
   "source": [
    "df = pd.read_csv('WA_Fn-UseC_-HR-Employee-Attrition.csv')\n",
    "df.head()"
   ]
  },
  {
   "cell_type": "code",
   "execution_count": null,
   "id": "00d8dc4b",
   "metadata": {},
   "outputs": [],
   "source": [
    "attrition_count = pd.DataFrame(df['Attrition'].value_counts())\n",
    "attrition_count"
   ]
  },
  {
   "cell_type": "code",
   "execution_count": null,
   "id": "dccf1855",
   "metadata": {},
   "outputs": [],
   "source": [
    "attrition_dummies = pd.get_dummies(df['Attrition'])"
   ]
  },
  {
   "cell_type": "code",
   "execution_count": null,
   "id": "bb2be268",
   "metadata": {},
   "outputs": [],
   "source": [
    "df = pd.concat([df, attrition_dummies] , axis = 1)\n",
    "df.head()"
   ]
  },
  {
   "cell_type": "code",
   "execution_count": null,
   "id": "984ddc11",
   "metadata": {},
   "outputs": [],
   "source": [
    "df = df.drop(['EmployeeCount' , 'EmployeeNumber',] , axis = 1)"
   ]
  },
  {
   "cell_type": "code",
   "execution_count": null,
   "id": "e31408e8",
   "metadata": {},
   "outputs": [],
   "source": [
    "sns.countplot(x = 'Attrition' ,data = df)"
   ]
  },
  {
   "cell_type": "code",
   "execution_count": null,
   "id": "80962d07",
   "metadata": {},
   "outputs": [],
   "source": [
    "plt.savefig('past_attr.png')"
   ]
  },
  {
   "cell_type": "code",
   "execution_count": null,
   "id": "e76477a3",
   "metadata": {},
   "outputs": [],
   "source": [
    "BarPlot_columns=['Age','JobLevel','JobRole','TotalWorkingYears',\n",
    "                'WorkLifeBalance','YearsInCurrentRole','Gender','BusinessTravel']"
   ]
  },
  {
   "cell_type": "code",
   "execution_count": null,
   "id": "097c8428",
   "metadata": {},
   "outputs": [],
   "source": [
    "def Bar_plots(var):\n",
    "    col=pd.crosstab(df[var],df.Attrition)\n",
    "    col.div(col.sum(1).astype(float), axis=0).plot(kind=\"bar\", stacked=False, figsize=(8,4))\n",
    "    plt.xticks(rotation=90)"
   ]
  },
  {
   "cell_type": "code",
   "execution_count": null,
   "id": "0588d598",
   "metadata": {},
   "outputs": [],
   "source": [
    "for col in BarPlot_columns:\n",
    "        ot=Bar_plots(col)\n",
    "        plt.savefig(f\"{col}.jpg\")"
   ]
  },
  {
   "cell_type": "code",
   "execution_count": null,
   "id": "55dad090",
   "metadata": {},
   "outputs": [],
   "source": [
    "sns.barplot(x = 'Gender' , y = 'Yes', data = df)\n",
    "plt.savefig(\"GendervsAtt.jpg\")\n",
    "\n"
   ]
  },
  {
   "cell_type": "code",
   "execution_count": null,
   "id": "99b32fe7",
   "metadata": {},
   "outputs": [],
   "source": [
    "df = df.drop(['Attrition' , 'No'] , axis = 1)\n",
    "df.head()"
   ]
  },
  {
   "cell_type": "code",
   "execution_count": null,
   "id": "c9b4484d",
   "metadata": {},
   "outputs": [],
   "source": [
    "plt.figure(figsize = (10,6))\n",
    "sns.heatmap(df.corr())"
   ]
  },
  {
   "cell_type": "code",
   "execution_count": null,
   "id": "10919887",
   "metadata": {},
   "outputs": [],
   "source": [
    "from sklearn.preprocessing import LabelEncoder\n",
    "for column in df.columns:\n",
    "    if df[column].dtype==np.number:\n",
    "        continue\n",
    "    else:\n",
    "        df[column]=LabelEncoder().fit_transform(df[column])"
   ]
  },
  {
   "cell_type": "code",
   "execution_count": null,
   "id": "4c98c774",
   "metadata": {},
   "outputs": [],
   "source": [
    "from sklearn.model_selection import train_test_split\n",
    "from sklearn.ensemble import RandomForestClassifier\n",
    "rf = RandomForestClassifier(n_estimators = 10, criterion = 'entropy', random_state = 0)"
   ]
  },
  {
   "cell_type": "code",
   "execution_count": null,
   "id": "059d690f",
   "metadata": {},
   "outputs": [],
   "source": [
    "x  = df.drop(['Yes'], axis = 1)\n",
    "y = df['Yes']"
   ]
  },
  {
   "cell_type": "code",
   "execution_count": null,
   "id": "dc330af0",
   "metadata": {},
   "outputs": [],
   "source": [
    "x_train, x_test , y_train, y_test = train_test_split(x,y, test_size = 0.3, random_state = 0)"
   ]
  },
  {
   "cell_type": "code",
   "execution_count": null,
   "id": "48e26298",
   "metadata": {},
   "outputs": [],
   "source": [
    "kk = rf.fit(x_train, y_train)"
   ]
  },
  {
   "cell_type": "code",
   "execution_count": null,
   "id": "a73d6c2b",
   "metadata": {},
   "outputs": [],
   "source": [
    "pred = kk.predict(x_test)\n",
    "pred"
   ]
  },
  {
   "cell_type": "code",
   "execution_count": null,
   "id": "17e1f10f",
   "metadata": {},
   "outputs": [],
   "source": [
    "new_df = x_test\n",
    "new_df['Attr'] = pred\n",
    "new_ct = pd.DataFrame(new_df['Attr'].value_counts())\n",
    "new_ct"
   ]
  },
  {
   "cell_type": "code",
   "execution_count": null,
   "id": "920dfad4",
   "metadata": {},
   "outputs": [],
   "source": [
    "plt.pie(new_ct['count'] , labels = ['No{427}' , 'Yes{14}'] , explode = (0.2,0))\n",
    "plt.savefig(\"finOutput.jpg\")\n"
   ]
  },
  {
   "cell_type": "code",
   "execution_count": null,
   "id": "ba3f2ab4",
   "metadata": {},
   "outputs": [],
   "source": [
    "from sklearn.metrics import accuracy_score\n",
    "accuracy_score(y_test, pred)\n",
    "\n",
    "\n"
   ]
  },
  {
   "cell_type": "code",
   "execution_count": null,
   "id": "e8eb2f3d",
   "metadata": {},
   "outputs": [],
   "source": [
    "from joblib import dump"
   ]
  },
  {
   "cell_type": "code",
   "execution_count": null,
   "id": "80f8bb48",
   "metadata": {},
   "outputs": [],
   "source": [
    "from joblib import dump\n",
    "dump(rf,'./../savedModel/model.joblib')"
   ]
  },
  {
   "cell_type": "code",
   "execution_count": null,
   "id": "3f0dda15",
   "metadata": {},
   "outputs": [],
   "source": []
  },
  {
   "cell_type": "code",
   "execution_count": null,
   "id": "27985482",
   "metadata": {},
   "outputs": [],
   "source": []
  }
 ],
 "metadata": {
  "kernelspec": {
   "display_name": "Python 3 (ipykernel)",
   "language": "python",
   "name": "python3"
  },
  "language_info": {
   "codemirror_mode": {
    "name": "ipython",
    "version": 3
   },
   "file_extension": ".py",
   "mimetype": "text/x-python",
   "name": "python",
   "nbconvert_exporter": "python",
   "pygments_lexer": "ipython3",
   "version": "3.11.1"
  }
 },
 "nbformat": 4,
 "nbformat_minor": 5
}
